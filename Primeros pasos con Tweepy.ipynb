{
 "cells": [
  {
   "cell_type": "markdown",
   "metadata": {},
   "source": [
    "# Primeros Pasos con Tweepy\n",
    "## Este Jupyter Notebook fue creado por [Jose Antonio Mora](https://twitter.com/Antonio_Mora_94)\n",
    "\n",
    "### Puedes seguir la entrada completa en mi blog [dando clic aqui](https://jantoniomora.wordpress.com/2019/06/20/primeros-pasos-con-tweepy)\n",
    "\n",
    "### Requisitos\n",
    "* Editor de texto (Visual Studio Code es mi elegido)\n",
    "* Python instalado en tu computadora (yo utilizo Python 3)\n",
    "* Librería Tweepy instalada\n",
    "* Cuenta de Desarrollador en Twitter (Es necesario que tu cuenta esté verificada con tu número celular)\n",
    "* Aplicación creada en la pagina de desarrolladores de Twitter, te dejo el link a la entrada de como hacer una aplicación aquí.\n",
    "\n",
    "Si ya cuentas con lo mencionado arriba, vamos a continuar con el codigo."
   ]
  },
  {
   "cell_type": "code",
   "execution_count": 4,
   "metadata": {},
   "outputs": [],
   "source": [
    "# Importamos las librerias necesarias\n",
    "import tweepy\n",
    "from tweepy import OAuthHandler"
   ]
  },
  {
   "cell_type": "code",
   "execution_count": 5,
   "metadata": {},
   "outputs": [],
   "source": [
    "# Agregamos las llaves y tokens\n",
    "consumer_key = \"XXXXXXXXXXXXXXXXXXXXXX\"\n",
    "consumer_secret = \"XXXXXXXXXXXXXXXXXXXXXX\"\n",
    "access_token = \"XXXXXXXXXXXXXXXXXXXXXX\"\n",
    "access_token_secret = \"XXXXXXXXXXXXXXXXXXXXXX\""
   ]
  },
  {
   "cell_type": "code",
   "execution_count": 6,
   "metadata": {},
   "outputs": [],
   "source": [
    "# Configuracion de acceso con las credenciales\n",
    "auth = OAuthHandler(consumer_key, consumer_secret)\n",
    "auth.set_access_token(access_token, access_token_secret)\n",
    " \n",
    "# Listos para hacer la conexion con el API\n",
    "api = tweepy.API(auth)"
   ]
  },
  {
   "cell_type": "code",
   "execution_count": 7,
   "metadata": {},
   "outputs": [
    {
     "data": {
      "text/plain": [
       "Status(_api=<tweepy.api.API object at 0x000001C02CD54320>, _json={'created_at': 'Fri Jun 28 02:11:29 +0000 2019', 'id': 1144428070461411328, 'id_str': '1144428070461411328', 'text': 'Hora de Dormir #JuevesDeSueño', 'truncated': False, 'entities': {'hashtags': [{'text': 'JuevesDeSueño', 'indices': [15, 29]}], 'symbols': [], 'user_mentions': [], 'urls': []}, 'source': '<a href=\"https://jantoniomora.wordpress.com/\" rel=\"nofollow\">PythonTweepyTuto</a>', 'in_reply_to_status_id': None, 'in_reply_to_status_id_str': None, 'in_reply_to_user_id': None, 'in_reply_to_user_id_str': None, 'in_reply_to_screen_name': None, 'user': {'id': 608653541, 'id_str': '608653541', 'name': 'Jose Antonio Mora', 'screen_name': 'Antonio_Mora_94', 'location': 'México', 'description': 'Software engineer 🤖, Data scientist  📜 and gamer 🎮(gt: AntonioMora94).\\n#Python #NLP #R #DotNet', 'url': 'https://t.co/N6ukjbDTaz', 'entities': {'url': {'urls': [{'url': 'https://t.co/N6ukjbDTaz', 'expanded_url': 'http://mx.linkedin.com/in/joseantoniomora/es', 'display_url': 'mx.linkedin.com/in/joseantonio…', 'indices': [0, 23]}]}, 'description': {'urls': []}}, 'protected': False, 'followers_count': 444, 'friends_count': 1786, 'listed_count': 33, 'created_at': 'Fri Jun 15 01:12:22 +0000 2012', 'favourites_count': 1608, 'utc_offset': None, 'time_zone': None, 'geo_enabled': True, 'verified': False, 'statuses_count': 3406, 'lang': None, 'contributors_enabled': False, 'is_translator': False, 'is_translation_enabled': False, 'profile_background_color': 'FA743E', 'profile_background_image_url': 'http://abs.twimg.com/images/themes/theme13/bg.gif', 'profile_background_image_url_https': 'https://abs.twimg.com/images/themes/theme13/bg.gif', 'profile_background_tile': False, 'profile_image_url': 'http://pbs.twimg.com/profile_images/647478056647430144/UdO-Iz0m_normal.jpg', 'profile_image_url_https': 'https://pbs.twimg.com/profile_images/647478056647430144/UdO-Iz0m_normal.jpg', 'profile_banner_url': 'https://pbs.twimg.com/profile_banners/608653541/1443205967', 'profile_link_color': '3B94D9', 'profile_sidebar_border_color': '000000', 'profile_sidebar_fill_color': '000000', 'profile_text_color': '000000', 'profile_use_background_image': True, 'has_extended_profile': True, 'default_profile': False, 'default_profile_image': False, 'following': False, 'follow_request_sent': False, 'notifications': False, 'translator_type': 'none'}, 'geo': None, 'coordinates': None, 'place': None, 'contributors': None, 'is_quote_status': False, 'retweet_count': 0, 'favorite_count': 0, 'favorited': False, 'retweeted': False, 'lang': 'pt'}, created_at=datetime.datetime(2019, 6, 28, 2, 11, 29), id=1144428070461411328, id_str='1144428070461411328', text='Hora de Dormir #JuevesDeSueño', truncated=False, entities={'hashtags': [{'text': 'JuevesDeSueño', 'indices': [15, 29]}], 'symbols': [], 'user_mentions': [], 'urls': []}, source='PythonTweepyTuto', source_url='https://jantoniomora.wordpress.com/', in_reply_to_status_id=None, in_reply_to_status_id_str=None, in_reply_to_user_id=None, in_reply_to_user_id_str=None, in_reply_to_screen_name=None, author=User(_api=<tweepy.api.API object at 0x000001C02CD54320>, _json={'id': 608653541, 'id_str': '608653541', 'name': 'Jose Antonio Mora', 'screen_name': 'Antonio_Mora_94', 'location': 'México', 'description': 'Software engineer 🤖, Data scientist  📜 and gamer 🎮(gt: AntonioMora94).\\n#Python #NLP #R #DotNet', 'url': 'https://t.co/N6ukjbDTaz', 'entities': {'url': {'urls': [{'url': 'https://t.co/N6ukjbDTaz', 'expanded_url': 'http://mx.linkedin.com/in/joseantoniomora/es', 'display_url': 'mx.linkedin.com/in/joseantonio…', 'indices': [0, 23]}]}, 'description': {'urls': []}}, 'protected': False, 'followers_count': 444, 'friends_count': 1786, 'listed_count': 33, 'created_at': 'Fri Jun 15 01:12:22 +0000 2012', 'favourites_count': 1608, 'utc_offset': None, 'time_zone': None, 'geo_enabled': True, 'verified': False, 'statuses_count': 3406, 'lang': None, 'contributors_enabled': False, 'is_translator': False, 'is_translation_enabled': False, 'profile_background_color': 'FA743E', 'profile_background_image_url': 'http://abs.twimg.com/images/themes/theme13/bg.gif', 'profile_background_image_url_https': 'https://abs.twimg.com/images/themes/theme13/bg.gif', 'profile_background_tile': False, 'profile_image_url': 'http://pbs.twimg.com/profile_images/647478056647430144/UdO-Iz0m_normal.jpg', 'profile_image_url_https': 'https://pbs.twimg.com/profile_images/647478056647430144/UdO-Iz0m_normal.jpg', 'profile_banner_url': 'https://pbs.twimg.com/profile_banners/608653541/1443205967', 'profile_link_color': '3B94D9', 'profile_sidebar_border_color': '000000', 'profile_sidebar_fill_color': '000000', 'profile_text_color': '000000', 'profile_use_background_image': True, 'has_extended_profile': True, 'default_profile': False, 'default_profile_image': False, 'following': False, 'follow_request_sent': False, 'notifications': False, 'translator_type': 'none'}, id=608653541, id_str='608653541', name='Jose Antonio Mora', screen_name='Antonio_Mora_94', location='México', description='Software engineer 🤖, Data scientist  📜 and gamer 🎮(gt: AntonioMora94).\\n#Python #NLP #R #DotNet', url='https://t.co/N6ukjbDTaz', entities={'url': {'urls': [{'url': 'https://t.co/N6ukjbDTaz', 'expanded_url': 'http://mx.linkedin.com/in/joseantoniomora/es', 'display_url': 'mx.linkedin.com/in/joseantonio…', 'indices': [0, 23]}]}, 'description': {'urls': []}}, protected=False, followers_count=444, friends_count=1786, listed_count=33, created_at=datetime.datetime(2012, 6, 15, 1, 12, 22), favourites_count=1608, utc_offset=None, time_zone=None, geo_enabled=True, verified=False, statuses_count=3406, lang=None, contributors_enabled=False, is_translator=False, is_translation_enabled=False, profile_background_color='FA743E', profile_background_image_url='http://abs.twimg.com/images/themes/theme13/bg.gif', profile_background_image_url_https='https://abs.twimg.com/images/themes/theme13/bg.gif', profile_background_tile=False, profile_image_url='http://pbs.twimg.com/profile_images/647478056647430144/UdO-Iz0m_normal.jpg', profile_image_url_https='https://pbs.twimg.com/profile_images/647478056647430144/UdO-Iz0m_normal.jpg', profile_banner_url='https://pbs.twimg.com/profile_banners/608653541/1443205967', profile_link_color='3B94D9', profile_sidebar_border_color='000000', profile_sidebar_fill_color='000000', profile_text_color='000000', profile_use_background_image=True, has_extended_profile=True, default_profile=False, default_profile_image=False, following=False, follow_request_sent=False, notifications=False, translator_type='none'), user=User(_api=<tweepy.api.API object at 0x000001C02CD54320>, _json={'id': 608653541, 'id_str': '608653541', 'name': 'Jose Antonio Mora', 'screen_name': 'Antonio_Mora_94', 'location': 'México', 'description': 'Software engineer 🤖, Data scientist  📜 and gamer 🎮(gt: AntonioMora94).\\n#Python #NLP #R #DotNet', 'url': 'https://t.co/N6ukjbDTaz', 'entities': {'url': {'urls': [{'url': 'https://t.co/N6ukjbDTaz', 'expanded_url': 'http://mx.linkedin.com/in/joseantoniomora/es', 'display_url': 'mx.linkedin.com/in/joseantonio…', 'indices': [0, 23]}]}, 'description': {'urls': []}}, 'protected': False, 'followers_count': 444, 'friends_count': 1786, 'listed_count': 33, 'created_at': 'Fri Jun 15 01:12:22 +0000 2012', 'favourites_count': 1608, 'utc_offset': None, 'time_zone': None, 'geo_enabled': True, 'verified': False, 'statuses_count': 3406, 'lang': None, 'contributors_enabled': False, 'is_translator': False, 'is_translation_enabled': False, 'profile_background_color': 'FA743E', 'profile_background_image_url': 'http://abs.twimg.com/images/themes/theme13/bg.gif', 'profile_background_image_url_https': 'https://abs.twimg.com/images/themes/theme13/bg.gif', 'profile_background_tile': False, 'profile_image_url': 'http://pbs.twimg.com/profile_images/647478056647430144/UdO-Iz0m_normal.jpg', 'profile_image_url_https': 'https://pbs.twimg.com/profile_images/647478056647430144/UdO-Iz0m_normal.jpg', 'profile_banner_url': 'https://pbs.twimg.com/profile_banners/608653541/1443205967', 'profile_link_color': '3B94D9', 'profile_sidebar_border_color': '000000', 'profile_sidebar_fill_color': '000000', 'profile_text_color': '000000', 'profile_use_background_image': True, 'has_extended_profile': True, 'default_profile': False, 'default_profile_image': False, 'following': False, 'follow_request_sent': False, 'notifications': False, 'translator_type': 'none'}, id=608653541, id_str='608653541', name='Jose Antonio Mora', screen_name='Antonio_Mora_94', location='México', description='Software engineer 🤖, Data scientist  📜 and gamer 🎮(gt: AntonioMora94).\\n#Python #NLP #R #DotNet', url='https://t.co/N6ukjbDTaz', entities={'url': {'urls': [{'url': 'https://t.co/N6ukjbDTaz', 'expanded_url': 'http://mx.linkedin.com/in/joseantoniomora/es', 'display_url': 'mx.linkedin.com/in/joseantonio…', 'indices': [0, 23]}]}, 'description': {'urls': []}}, protected=False, followers_count=444, friends_count=1786, listed_count=33, created_at=datetime.datetime(2012, 6, 15, 1, 12, 22), favourites_count=1608, utc_offset=None, time_zone=None, geo_enabled=True, verified=False, statuses_count=3406, lang=None, contributors_enabled=False, is_translator=False, is_translation_enabled=False, profile_background_color='FA743E', profile_background_image_url='http://abs.twimg.com/images/themes/theme13/bg.gif', profile_background_image_url_https='https://abs.twimg.com/images/themes/theme13/bg.gif', profile_background_tile=False, profile_image_url='http://pbs.twimg.com/profile_images/647478056647430144/UdO-Iz0m_normal.jpg', profile_image_url_https='https://pbs.twimg.com/profile_images/647478056647430144/UdO-Iz0m_normal.jpg', profile_banner_url='https://pbs.twimg.com/profile_banners/608653541/1443205967', profile_link_color='3B94D9', profile_sidebar_border_color='000000', profile_sidebar_fill_color='000000', profile_text_color='000000', profile_use_background_image=True, has_extended_profile=True, default_profile=False, default_profile_image=False, following=False, follow_request_sent=False, notifications=False, translator_type='none'), geo=None, coordinates=None, place=None, contributors=None, is_quote_status=False, retweet_count=0, favorite_count=0, favorited=False, retweeted=False, lang='pt')"
      ]
     },
     "execution_count": 7,
     "metadata": {},
     "output_type": "execute_result"
    }
   ],
   "source": [
    "# Publicamos un texto en nuestro twitter\n",
    "texto = \"Como cuando haces un tweet utilizando #tweepy y #python\"\n",
    "api.update_status(texto)"
   ]
  },
  {
   "cell_type": "code",
   "execution_count": null,
   "metadata": {},
   "outputs": [],
   "source": []
  }
 ],
 "metadata": {
  "kernelspec": {
   "display_name": "Python 3",
   "language": "python",
   "name": "python3"
  },
  "language_info": {
   "codemirror_mode": {
    "name": "ipython",
    "version": 3
   },
   "file_extension": ".py",
   "mimetype": "text/x-python",
   "name": "python",
   "nbconvert_exporter": "python",
   "pygments_lexer": "ipython3",
   "version": "3.6.5"
  }
 },
 "nbformat": 4,
 "nbformat_minor": 2
}
